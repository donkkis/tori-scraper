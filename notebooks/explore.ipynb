{
 "cells": [
  {
   "cell_type": "code",
   "execution_count": null,
   "id": "cardiac-biography",
   "metadata": {},
   "outputs": [],
   "source": [
    "import string\n",
    "import pandas as pd\n",
    "import nltk\n",
    "from nltk.tokenize import word_tokenize\n",
    "from nltk.probability import FreqDist"
   ]
  },
  {
   "cell_type": "code",
   "execution_count": null,
   "id": "cordless-scott",
   "metadata": {},
   "outputs": [],
   "source": [
    "pd.set_option('display.max_rows', 200)"
   ]
  },
  {
   "cell_type": "code",
   "execution_count": null,
   "id": "green-particle",
   "metadata": {},
   "outputs": [],
   "source": [
    "data = pd.read_csv('../data/descriptions.csv')"
   ]
  },
  {
   "cell_type": "code",
   "execution_count": null,
   "id": "racial-organization",
   "metadata": {},
   "outputs": [],
   "source": [
    "data.head()"
   ]
  },
  {
   "cell_type": "code",
   "execution_count": null,
   "id": "great-carnival",
   "metadata": {},
   "outputs": [],
   "source": [
    "data['Sentence'] = data['Title'] # + ' ' + data['Description']"
   ]
  },
  {
   "cell_type": "code",
   "execution_count": null,
   "id": "precious-departure",
   "metadata": {},
   "outputs": [],
   "source": [
    "data = data.drop(['Unnamed: 0', 'Title', 'Description'], axis=1)"
   ]
  },
  {
   "cell_type": "code",
   "execution_count": null,
   "id": "christian-minutes",
   "metadata": {},
   "outputs": [],
   "source": [
    "data.head()"
   ]
  },
  {
   "cell_type": "code",
   "execution_count": null,
   "id": "adapted-start",
   "metadata": {},
   "outputs": [],
   "source": [
    "corpus = word_tokenize(' '.join(data.loc[:, 'Sentence']).lower())"
   ]
  },
  {
   "cell_type": "code",
   "execution_count": null,
   "id": "variable-delta",
   "metadata": {},
   "outputs": [],
   "source": [
    "len(corpus)"
   ]
  },
  {
   "cell_type": "code",
   "execution_count": null,
   "id": "corresponding-beauty",
   "metadata": {},
   "outputs": [],
   "source": [
    "corpus[:15]"
   ]
  },
  {
   "cell_type": "markdown",
   "id": "thousand-christopher",
   "metadata": {},
   "source": [
    "Remove stopwords"
   ]
  },
  {
   "cell_type": "code",
   "execution_count": null,
   "id": "italian-reform",
   "metadata": {},
   "outputs": [],
   "source": [
    "sw = nltk.corpus.stopwords.words('finnish')"
   ]
  },
  {
   "cell_type": "code",
   "execution_count": null,
   "id": "lightweight-rally",
   "metadata": {},
   "outputs": [],
   "source": [
    "len(sw)"
   ]
  },
  {
   "cell_type": "code",
   "execution_count": null,
   "id": "beginning-paragraph",
   "metadata": {},
   "outputs": [],
   "source": [
    "corpus = [t for t in corpus if t not in sw]"
   ]
  },
  {
   "cell_type": "markdown",
   "id": "another-multiple",
   "metadata": {},
   "source": [
    "Remove punctuation"
   ]
  },
  {
   "cell_type": "code",
   "execution_count": null,
   "id": "right-fever",
   "metadata": {},
   "outputs": [],
   "source": [
    "corpus = [t for t in corpus if t not in string.punctuation]"
   ]
  },
  {
   "cell_type": "code",
   "execution_count": null,
   "id": "massive-tactics",
   "metadata": {},
   "outputs": [],
   "source": [
    "len(corpus)"
   ]
  },
  {
   "cell_type": "code",
   "execution_count": null,
   "id": "legendary-chrome",
   "metadata": {},
   "outputs": [],
   "source": [
    "fd = FreqDist(corpus)"
   ]
  },
  {
   "cell_type": "code",
   "execution_count": null,
   "id": "detected-haven",
   "metadata": {},
   "outputs": [],
   "source": [
    "fd.most_common(10)"
   ]
  },
  {
   "cell_type": "code",
   "execution_count": null,
   "id": "minor-mumbai",
   "metadata": {},
   "outputs": [],
   "source": [
    "common_uni = pd.DataFrame({\n",
    "    'tag': [w[0] for w in fd.most_common(200)],\n",
    "    'count': [w[1] for w in fd.most_common(200)],\n",
    "})"
   ]
  },
  {
   "cell_type": "code",
   "execution_count": null,
   "id": "independent-malta",
   "metadata": {},
   "outputs": [],
   "source": [
    "common_uni"
   ]
  },
  {
   "cell_type": "code",
   "execution_count": null,
   "id": "opponent-tucson",
   "metadata": {},
   "outputs": [],
   "source": [
    "from nltk import bigrams, trigrams"
   ]
  },
  {
   "cell_type": "code",
   "execution_count": null,
   "id": "vertical-cedar",
   "metadata": {},
   "outputs": [],
   "source": [
    "bi_fd = FreqDist(list(bigrams(corpus)))"
   ]
  },
  {
   "cell_type": "code",
   "execution_count": null,
   "id": "greek-valentine",
   "metadata": {},
   "outputs": [],
   "source": [
    "# Total count 4404\n",
    "common_bi = pd.DataFrame({\n",
    "    'tag': [' '.join(w[0]) for w in bi_fd.most_common(200)],\n",
    "    'count': [w[1] for w in bi_fd.most_common(200)]}\n",
    ")"
   ]
  },
  {
   "cell_type": "code",
   "execution_count": null,
   "id": "amazing-facility",
   "metadata": {},
   "outputs": [],
   "source": [
    "common_bi"
   ]
  },
  {
   "cell_type": "code",
   "execution_count": null,
   "id": "peripheral-building",
   "metadata": {},
   "outputs": [],
   "source": [
    "tri_fd = FreqDist(list(trigrams(corpus)))"
   ]
  },
  {
   "cell_type": "code",
   "execution_count": null,
   "id": "moderate-championship",
   "metadata": {},
   "outputs": [],
   "source": [
    "# Total count 7192\n",
    "common_tri = pd.DataFrame({\n",
    "    'tag': [' '.join(w[0]) for w in tri_fd.most_common(200)],\n",
    "    'count': [w[1] for w in tri_fd.most_common(200)],\n",
    "})"
   ]
  },
  {
   "cell_type": "code",
   "execution_count": null,
   "id": "monthly-squad",
   "metadata": {},
   "outputs": [],
   "source": [
    "common_tri"
   ]
  },
  {
   "cell_type": "code",
   "execution_count": null,
   "id": "spiritual-wildlife",
   "metadata": {},
   "outputs": [],
   "source": [
    "tags = pd.concat([common_uni, common_bi, common_tri])"
   ]
  },
  {
   "cell_type": "code",
   "execution_count": null,
   "id": "similar-palestinian",
   "metadata": {},
   "outputs": [],
   "source": [
    "tags"
   ]
  },
  {
   "cell_type": "code",
   "execution_count": null,
   "id": "female-victor",
   "metadata": {},
   "outputs": [],
   "source": [
    "# tags.to_csv('../data/tags.csv')"
   ]
  },
  {
   "cell_type": "markdown",
   "id": "pointed-answer",
   "metadata": {},
   "source": [
    "Write output to mongo"
   ]
  },
  {
   "cell_type": "code",
   "execution_count": null,
   "id": "frequent-clinton",
   "metadata": {},
   "outputs": [],
   "source": [
    "#import os\n",
    "#from dotenv import load_dotenv\n",
    "#from pymongo import MongoClient"
   ]
  },
  {
   "cell_type": "code",
   "execution_count": null,
   "id": "classical-bankruptcy",
   "metadata": {},
   "outputs": [],
   "source": [
    "#load_dotenv('../.env')"
   ]
  },
  {
   "cell_type": "code",
   "execution_count": null,
   "id": "treated-hello",
   "metadata": {},
   "outputs": [],
   "source": [
    "#uri = os.getenv('MONGODB_URI')\n",
    "#db_name = 'tavaralle-hinta'\n",
    "#client = MongoClient(uri)\n",
    "#db = client[db_name]\n",
    "#db.tags.insert_many(tags.to_dict(orient='records'))"
   ]
  },
  {
   "cell_type": "code",
   "execution_count": null,
   "id": "noticed-building",
   "metadata": {},
   "outputs": [],
   "source": []
  }
 ],
 "metadata": {
  "kernelspec": {
   "display_name": "Python 3",
   "language": "python",
   "name": "python3"
  },
  "language_info": {
   "codemirror_mode": {
    "name": "ipython",
    "version": 3
   },
   "file_extension": ".py",
   "mimetype": "text/x-python",
   "name": "python",
   "nbconvert_exporter": "python",
   "pygments_lexer": "ipython3",
   "version": "3.7.6"
  }
 },
 "nbformat": 4,
 "nbformat_minor": 5
}
